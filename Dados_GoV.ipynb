{
 "cells": [
  {
   "cell_type": "code",
   "execution_count": 1,
   "id": "d0de3867",
   "metadata": {},
   "outputs": [],
   "source": [
    "from selenium import webdriver\n",
    "from selenium.webdriver.common.by import By\n",
    "from time import sleep"
   ]
  },
  {
   "cell_type": "code",
   "execution_count": 2,
   "id": "883e6143",
   "metadata": {
    "scrolled": true
   },
   "outputs": [],
   "source": [
    "#Abre o navegador na url desejada:\n",
    "url = \"https://dados.gov.br/dados/conjuntos-dados/srag-2021-e-2022\"\n",
    "nav = webdriver.Chrome();\n",
    "nav.get(url)\n",
    "sleep(2)"
   ]
  },
  {
   "cell_type": "code",
   "execution_count": 3,
   "id": "1a498772",
   "metadata": {},
   "outputs": [],
   "source": [
    "#Encontra a aba de recursos e clica:\n",
    "abas = nav.find_elements(By.ID, \"btnCollapse\")\n",
    "for aba in abas:\n",
    "    if \"Recursos\" in aba.text:\n",
    "        aba.click()"
   ]
  },
  {
   "cell_type": "code",
   "execution_count": 4,
   "id": "b2daa8c5",
   "metadata": {},
   "outputs": [],
   "source": [
    "#Partição de recursos:\n",
    "recursos = nav.find_element(By.ID, \"collapse-recursos\")\n",
    "sleep(5)\n",
    "\n",
    "#Lista de botoes com o texto \"Acessar o recurso\":\n",
    "lista_botoesRecursos = []\n",
    "#Lista de tags \"span\" com o texto \"CSV\" ou \"PDF\":\n",
    "lista_pdfEcsv = []\n",
    "\n",
    "#Encontra todos os botoes nos recursos e verifica se o texto é \"Acessar o recurso\". Se for, salva na lista de botoes:\n",
    "botoes = recursos.find_elements(By.TAG_NAME, \"button\")\n",
    "for botao in botoes:\n",
    "    if botao.text == \"Acessar o recurso\":\n",
    "        lista_botoesRecursos.append(botao)\n",
    "        \n",
    "#Encontra todos as tags \"span\" nos recursos e verifica se o texto é \"CSV\" ou \"PDF\". Se for, salva na lista de csv e pdf:\n",
    "spans = recursos.find_elements(By.TAG_NAME, \"span\")\n",
    "for span in spans:\n",
    "    if span.text == \"CSV\" or span.text == \"PDF\":\n",
    "        lista_pdfEcsv.append(span)"
   ]
  },
  {
   "cell_type": "code",
   "execution_count": 5,
   "id": "f8f066a6",
   "metadata": {},
   "outputs": [],
   "source": [
    "for i in range(len(lista_botoesRecursos)):\n",
    "    if lista_pdfEcsv[i].text == \"CSV\":\n",
    "        lista_botoesRecursos[i].click()"
   ]
  },
  {
   "cell_type": "code",
   "execution_count": null,
   "id": "9db89f24",
   "metadata": {},
   "outputs": [],
   "source": []
  }
 ],
 "metadata": {
  "kernelspec": {
   "display_name": "Python 3 (ipykernel)",
   "language": "python",
   "name": "python3"
  },
  "language_info": {
   "codemirror_mode": {
    "name": "ipython",
    "version": 3
   },
   "file_extension": ".py",
   "mimetype": "text/x-python",
   "name": "python",
   "nbconvert_exporter": "python",
   "pygments_lexer": "ipython3",
   "version": "3.9.12"
  }
 },
 "nbformat": 4,
 "nbformat_minor": 5
}
